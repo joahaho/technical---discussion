{
  "metadata": {
    "language_info": {
      "codemirror_mode": {
        "name": "python",
        "version": 3
      },
      "file_extension": ".py",
      "mimetype": "text/x-python",
      "name": "python",
      "nbconvert_exporter": "python",
      "pygments_lexer": "ipython3",
      "version": "3.8"
    },
    "kernelspec": {
      "name": "python",
      "display_name": "Python (Pyodide)",
      "language": "python"
    },
    "colab": {
      "provenance": [],
      "include_colab_link": true
    }
  },
  "nbformat_minor": 0,
  "nbformat": 4,
  "cells": [
    {
      "cell_type": "markdown",
      "metadata": {
        "id": "view-in-github",
        "colab_type": "text"
      },
      "source": [
        "<a href=\"https://colab.research.google.com/github/joahaho/technical---discussion/blob/main/Demo.ipynb\" target=\"_parent\"><img src=\"https://colab.research.google.com/assets/colab-badge.svg\" alt=\"Open In Colab\"/></a>"
      ]
    },
    {
      "cell_type": "code",
      "source": [
        "print (\"hello world\")"
      ],
      "metadata": {
        "trusted": true,
        "id": "6NsTthnq9Z-v",
        "outputId": "003f9e3b-fcd5-455b-b125-48cc2e9c2dab"
      },
      "execution_count": null,
      "outputs": [
        {
          "name": "stdout",
          "text": "hello world\n",
          "output_type": "stream"
        }
      ]
    },
    {
      "cell_type": "markdown",
      "source": [
        "# First heading\n",
        "This is a test to create a markdown cell."
      ],
      "metadata": {
        "id": "uE8AaxNq9Z-x"
      }
    },
    {
      "cell_type": "markdown",
      "source": [
        "## Second heading\n",
        "**Trying out the bold function**"
      ],
      "metadata": {
        "id": "utygoEqU9Z-y"
      }
    },
    {
      "cell_type": "markdown",
      "source": [
        "### Third heading\n",
        "_This text is italicized_\n"
      ],
      "metadata": {
        "id": "THU01_Ba9Z-y"
      }
    },
    {
      "cell_type": "code",
      "source": [],
      "metadata": {
        "id": "lUnfcamf9Z-z"
      },
      "execution_count": null,
      "outputs": []
    }
  ]
}